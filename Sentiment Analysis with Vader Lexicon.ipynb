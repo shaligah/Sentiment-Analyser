{
 "cells": [
  {
   "cell_type": "code",
   "execution_count": 1,
   "metadata": {},
   "outputs": [],
   "source": [
    "import requests\n",
    "from bs4 import BeautifulSoup\n",
    "import pandas as pd\n",
    "from sklearn.pipeline import Pipeline\n",
    "from sklearn.base import BaseEstimator, TransformerMixin\n",
    "from nltk.sentiment.vader import SentimentIntensityAnalyzer\n",
    "import nltk\n",
    "#nltk.download('stopwords')\n",
    "#nltk.download('punkt')\n",
    "#nltk.download('wordnet')\n",
    "#nltk.download('omw-1.4')\n",
    "from nltk.corpus import stopwords\n",
    "#from nltk.stem import WordNetLemmatizer"
   ]
  },
  {
   "cell_type": "code",
   "execution_count": 2,
   "metadata": {},
   "outputs": [
    {
     "name": "stdout",
     "output_type": "stream",
     "text": [
      "Scraping page 1\n",
      "   ---> 100 total reviews\n",
      "Scraping page 2\n",
      "   ---> 200 total reviews\n",
      "Scraping page 3\n",
      "   ---> 300 total reviews\n",
      "Scraping page 4\n",
      "   ---> 400 total reviews\n",
      "Scraping page 5\n",
      "   ---> 500 total reviews\n"
     ]
    }
   ],
   "source": [
    "base_url = \"https://www.airlinequality.com/airport-reviews/london-heathrow-airport/\"\n",
    "pages = 5\n",
    "page_size = 100\n",
    "\n",
    "reviews = []\n",
    "\n",
    "# for i in range(1, pages + 1):\n",
    "for i in range(1, pages + 1):\n",
    "\n",
    "    print(f\"Scraping page {i}\")\n",
    "\n",
    "    # Create URL to collect links from paginated data\n",
    "    url = f\"{base_url}/page/{i}/?sortby=post_date%3ADesc&pagesize={page_size}\"\n",
    "\n",
    "    # Collect HTML data from this page\n",
    "    response = requests.get(url)\n",
    "\n",
    "    # Parse content\n",
    "    content = response.content\n",
    "    parsed_content = BeautifulSoup(content, 'html.parser')\n",
    "    for para in parsed_content.find_all(\"div\", {\"class\": \"text_content\"}):\n",
    "        reviews.append(para.get_text())\n",
    "    \n",
    "    print(f\"   ---> {len(reviews)} total reviews\")"
   ]
  },
  {
   "cell_type": "code",
   "execution_count": 3,
   "metadata": {},
   "outputs": [
    {
     "data": {
      "text/html": [
       "<div>\n",
       "<style scoped>\n",
       "    .dataframe tbody tr th:only-of-type {\n",
       "        vertical-align: middle;\n",
       "    }\n",
       "\n",
       "    .dataframe tbody tr th {\n",
       "        vertical-align: top;\n",
       "    }\n",
       "\n",
       "    .dataframe thead th {\n",
       "        text-align: right;\n",
       "    }\n",
       "</style>\n",
       "<table border=\"1\" class=\"dataframe\">\n",
       "  <thead>\n",
       "    <tr style=\"text-align: right;\">\n",
       "      <th></th>\n",
       "      <th>reviews</th>\n",
       "    </tr>\n",
       "  </thead>\n",
       "  <tbody>\n",
       "    <tr>\n",
       "      <th>0</th>\n",
       "      <td>Not Verified | Best avoid this airport if you ...</td>\n",
       "    </tr>\n",
       "    <tr>\n",
       "      <th>1</th>\n",
       "      <td>Not Verified |   Have to rescreen even if you ...</td>\n",
       "    </tr>\n",
       "    <tr>\n",
       "      <th>2</th>\n",
       "      <td>Not Verified |   First time leaving from T2 to...</td>\n",
       "    </tr>\n",
       "    <tr>\n",
       "      <th>3</th>\n",
       "      <td>✅ Trip Verified |  I flew from Hong Kong to He...</td>\n",
       "    </tr>\n",
       "    <tr>\n",
       "      <th>4</th>\n",
       "      <td>✅ Trip Verified |  For the first time in 12 ye...</td>\n",
       "    </tr>\n",
       "  </tbody>\n",
       "</table>\n",
       "</div>"
      ],
      "text/plain": [
       "                                             reviews\n",
       "0  Not Verified | Best avoid this airport if you ...\n",
       "1  Not Verified |   Have to rescreen even if you ...\n",
       "2  Not Verified |   First time leaving from T2 to...\n",
       "3  ✅ Trip Verified |  I flew from Hong Kong to He...\n",
       "4  ✅ Trip Verified |  For the first time in 12 ye..."
      ]
     },
     "execution_count": 3,
     "metadata": {},
     "output_type": "execute_result"
    }
   ],
   "source": [
    "df = pd.DataFrame()\n",
    "df[\"reviews\"] = reviews\n",
    "df.head()"
   ]
  },
  {
   "cell_type": "code",
   "execution_count": 4,
   "metadata": {},
   "outputs": [],
   "source": [
    "charac = '|'\n",
    "df['reviews'] = df['reviews'].str.split(charac).str[1]"
   ]
  },
  {
   "cell_type": "code",
   "execution_count": 5,
   "metadata": {},
   "outputs": [],
   "source": [
    "base_url = \"https://www.airlinequality.com/airport-reviews/london-heathrow-airport/\""
   ]
  },
  {
   "cell_type": "code",
   "execution_count": 6,
   "metadata": {},
   "outputs": [],
   "source": [
    "#creating a function for scraping data from the website\n",
    "def getting_data(source):\n",
    "    \n",
    "    pages = 5\n",
    "    page_size = 100\n",
    "\n",
    "    reviews = []\n",
    "\n",
    "    # for i in range(1, pages + 1):\n",
    "    for i in range(1, pages + 1):\n",
    "\n",
    "\n",
    "    # Create URL to collect links from paginated data\n",
    "        url = f\"{source}/page/{i}/?sortby=post_date%3ADesc&pagesize={page_size}\"\n",
    "\n",
    "    # Collect HTML data from this page\n",
    "        response = requests.get(url)\n",
    "\n",
    "    # Parse content\n",
    "        content = response.content\n",
    "        parsed_content = BeautifulSoup(content, 'html.parser')\n",
    "        for para in parsed_content.find_all(\"div\", {\"class\": \"text_content\"}):\n",
    "            reviews.append(para.get_text())\n",
    "            \n",
    "    df = pd.DataFrame()\n",
    "    df['reviews']= reviews\n",
    "    df =df.dropna()\n",
    "    return df\n",
    "    "
   ]
  },
  {
   "cell_type": "code",
   "execution_count": null,
   "metadata": {},
   "outputs": [],
   "source": []
  },
  {
   "cell_type": "code",
   "execution_count": 7,
   "metadata": {},
   "outputs": [],
   "source": [
    "#creating a pipeline that predicts the sentiments score of user reviews\n",
    "def new_pipeline():\n",
    "    \"\"\"\n",
    "    class Preprocessing(BaseEstimator,TransformerMixin):\n",
    "        def __init__(self):\n",
    "            self.stopwords = set(stopwords.words('english'))\n",
    "            self.lemmatizer = WordNetLemmatizer()\n",
    "    \n",
    "        def fit(self, X):\n",
    "            return self\n",
    "    \n",
    "        def transform(self, X,y=None):\n",
    "            return X.apply(self.preprocessing)\n",
    "    \n",
    "        def preprocessing(self, data):\n",
    "            words = nltk.word_tokenize(data)\n",
    "            words = [self.lemmatizer.lemmatize(word.lower()) for word in words if word.lower() and word.isalnum() not in self.stopwords]\n",
    "            return ''.join(words)\n",
    "    \"\"\"\n",
    "    class VaderAnalyzer(BaseEstimator, TransformerMixin):\n",
    "        def __init__(self):\n",
    "            self.vanalyzer = SentimentIntensityAnalyzer()\n",
    "        \n",
    "        def fit(self, X):\n",
    "            return self\n",
    "    \n",
    "        def transform(self,X,y=None):\n",
    "            return X.apply(self.VAnalyzer)\n",
    "    \n",
    "        def VAnalyzer(self, data):\n",
    "            scores = self.vanalyzer.polarity_scores(data)\n",
    "            return scores['compound']\n",
    "    \n",
    "    pipeline = Pipeline([\n",
    "        ('VAnalyzer', VaderAnalyzer()),\n",
    "])\n",
    "    return pipeline\n"
   ]
  },
  {
   "cell_type": "code",
   "execution_count": 9,
   "metadata": {},
   "outputs": [],
   "source": [
    "#creating a function that explores the sentiments of user reviews\n",
    "def analyser(reviews):\n",
    "    pipeline = new_pipeline()\n",
    "    transformedd = pipeline.fit_transform(reviews['reviews'])\n",
    "    sentiment=[]\n",
    "    for i in transformedd:\n",
    "        if i>0.0:\n",
    "            sentiment.append('Positive')\n",
    "        elif i<0.0:\n",
    "            sentiment.append('Negative')\n",
    "        else:\n",
    "            sentiment.append('Neutral')\n",
    "    return  transformedd, sentiment"
   ]
  },
  {
   "cell_type": "code",
   "execution_count": 10,
   "metadata": {},
   "outputs": [],
   "source": [
    "def new_df(reviews):\n",
    "    reviews['scores'], reviews['sentiment'] = analyser(reviews)\n",
    "    return reviews"
   ]
  },
  {
   "cell_type": "code",
   "execution_count": 11,
   "metadata": {},
   "outputs": [
    {
     "name": "stdout",
     "output_type": "stream",
     "text": [
      "                                               reviews  scores sentiment\n",
      "0    Not Verified | Best avoid this airport if you ... -0.5690  Negative\n",
      "1    Not Verified |   Have to rescreen even if you ...  0.0000   Neutral\n",
      "2    Not Verified |   First time leaving from T2 to...  0.1501  Positive\n",
      "3    ✅ Trip Verified |  I flew from Hong Kong to He...  0.5290  Positive\n",
      "4    ✅ Trip Verified |  For the first time in 12 ye... -0.0516  Negative\n",
      "..                                                 ...     ...       ...\n",
      "495  I travel threough Heathrow on a weekly basis, ...  0.6486  Positive\n",
      "496  Probably the worst airport I've seen. 1) custo... -0.7906  Negative\n",
      "497  Travelled through Terminal 3 to and from the U...  0.9629  Positive\n",
      "498  Heathrow airport is big but organized, great a...  0.8709  Positive\n",
      "499  I was motivated to write this review after the...  0.9567  Positive\n",
      "\n",
      "[500 rows x 3 columns]\n"
     ]
    }
   ],
   "source": [
    "#creating a script that utilizes the created functions in a reusable manner for production\n",
    "def main():\n",
    "    df = getting_data(base_url)\n",
    "    \n",
    "    new = new_df(df)\n",
    "    return new\n",
    "    \n",
    "if __name__ == \"__main__\":\n",
    "    output = main()\n",
    "    print(output)\n",
    "    "
   ]
  },
  {
   "cell_type": "code",
   "execution_count": null,
   "metadata": {},
   "outputs": [],
   "source": [
    "#df.to_csv(\"Airport reviews.csv\")"
   ]
  },
  {
   "cell_type": "code",
   "execution_count": null,
   "metadata": {},
   "outputs": [],
   "source": []
  }
 ],
 "metadata": {
  "kernelspec": {
   "display_name": "Python 3 (ipykernel)",
   "language": "python",
   "name": "python3"
  },
  "language_info": {
   "codemirror_mode": {
    "name": "ipython",
    "version": 3
   },
   "file_extension": ".py",
   "mimetype": "text/x-python",
   "name": "python",
   "nbconvert_exporter": "python",
   "pygments_lexer": "ipython3",
   "version": "3.9.12"
  },
  "vscode": {
   "interpreter": {
    "hash": "4f7924c4c56b083e0e50eadfe7ef592a7a8ef70df33a0047f82280e6be1afe15"
   }
  }
 },
 "nbformat": 4,
 "nbformat_minor": 2
}
